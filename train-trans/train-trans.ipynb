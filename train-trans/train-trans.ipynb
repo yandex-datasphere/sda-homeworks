{
 "cells": [
  {
   "cell_type": "markdown",
   "id": "238a734e",
   "metadata": {
    "cellId": "dsjmeuiu5ooqr5um2elwq",
    "execution_id": "9bf6d8a1-24c2-499b-909e-7b52bd849302"
   },
   "source": [
    "## Обучение генеративной трансформерной модели с помощью `transformers`\n",
    "\n",
    "Для "
   ]
  },
  {
   "cell_type": "code",
   "execution_count": 21,
   "id": "2fb05297",
   "metadata": {
    "cellId": "rbd025oj0my1im4ob4369"
   },
   "outputs": [
    {
     "name": "stdout",
     "output_type": "stream",
     "text": [
      "Defaulting to user installation because normal site-packages is not writeable\n",
      "\u001b[31mERROR: Invalid requirement: 'transformers,'\u001b[0m\u001b[31m\n",
      "\u001b[0m\n",
      "\u001b[1m[\u001b[0m\u001b[34;49mnotice\u001b[0m\u001b[1;39;49m]\u001b[0m\u001b[39;49m A new release of pip is available: \u001b[0m\u001b[31;49m23.2.1\u001b[0m\u001b[39;49m -> \u001b[0m\u001b[32;49m23.3.1\u001b[0m\n",
      "\u001b[1m[\u001b[0m\u001b[34;49mnotice\u001b[0m\u001b[1;39;49m]\u001b[0m\u001b[39;49m To update, run: \u001b[0m\u001b[32;49mpython3 -m pip install --upgrade pip\u001b[0m\n"
     ]
    }
   ],
   "source": [
    "%pip install transformers, tokenizers"
   ]
  },
  {
   "cell_type": "code",
   "execution_count": 2,
   "id": "7a2fdc9f",
   "metadata": {
    "cellId": "iclg75lmp4eq0s1e06tgz8"
   },
   "outputs": [],
   "source": [
    "urls = ['http://az.lib.ru/t/tolstoj_lew_nikolaewich/text_0039.shtml',\n",
    "        'http://az.lib.ru/t/tolstoj_lew_nikolaewich/text_0040.shtml',\n",
    "        'http://az.lib.ru/t/tolstoj_lew_nikolaewich/text_0050.shtml',\n",
    "        'http://az.lib.ru/t/tolstoj_lew_nikolaewich/text_0060.shtml',\n",
    "        'http://az.lib.ru/t/tolstoj_lew_nikolaewich/text_0070.shtml',\n",
    "        'http://az.lib.ru/t/tolstoj_lew_nikolaewich/text_0080.shtml',\n",
    "        'http://az.lib.ru/t/tolstoj_lew_nikolaewich/text_0090.shtml',\n",
    "        'http://az.lib.ru/t/tolstoj_lew_nikolaewich/text_1860_dekabristy.shtml']"
   ]
  },
  {
   "cell_type": "code",
   "execution_count": 14,
   "id": "5fa0a46f",
   "metadata": {
    "cellId": "nnln4ab6z2rmu8k09ydl"
   },
   "outputs": [],
   "source": [
    "import requests\n",
    "import re, html\n",
    "\n",
    "def download(url):\n",
    "    return requests.get(url).text\n",
    "\n",
    "# code borrowed from here: https://github.com/pallets/markupsafe/blob/0.23/markupsafe/__init__.py#L21\n",
    "striptags_re = re.compile(r'(<!--.*?-->|<[^>]*>)')\n",
    "entity_re = re.compile(r'&([^;]+);')\n",
    "\n",
    "def to_text(s):\n",
    "    return html.unescape(striptags_re.sub('',s))\n",
    "\n",
    "def beautify(s):\n",
    "    lines = [ x.strip() for x in s.split('\\n') if x.strip()!=\"\"]\n",
    "    for i in range(min(100,len(lines))):\n",
    "        if lines[i]=='-->':\n",
    "            break\n",
    "    return '\\n'.join(lines[i+1:] if i<100 else lines)\n",
    "    \n",
    "with open('dataset.txt','w',encoding='utf-8') as f:\n",
    "    for u in urls:\n",
    "        text = beautify(to_text(download(u)))\n",
    "        f.write(text+'\\n\\n')\n",
    "        "
   ]
  },
  {
   "cell_type": "code",
   "execution_count": 22,
   "id": "eebb73f4",
   "metadata": {
    "cellId": "x7fii1yudivznf9h1jgxb"
   },
   "outputs": [],
   "source": [
    "import transformers as tr\n",
    "import tokenizers as tok"
   ]
  },
  {
   "cell_type": "code",
   "execution_count": 38,
   "id": "068b70c1",
   "metadata": {
    "cellId": "jjhwu4gsmle8v2ojdyjukv"
   },
   "outputs": [
    {
     "name": "stdout",
     "output_type": "stream",
     "text": [
      "\n",
      "\n",
      "\n"
     ]
    }
   ],
   "source": [
    "tokenizer = tok.Tokenizer(tok.models.BPE(unk_token='[UNK]'))\n",
    "tokenizer.pre_tokenizer = tok.pre_tokenizers.Whitespace()\n",
    "trainer = tok.trainers.BpeTrainer(special_tokens=[\"[UNK]\", \"[CLS]\", \"[SEP]\", \"[PAD]\", \"[MASK]\"])\n",
    "tokenizer.train(['dataset.txt'],trainer)"
   ]
  },
  {
   "cell_type": "code",
   "execution_count": 41,
   "id": "87112741",
   "metadata": {
    "cellId": "d1cjx8u0oy8rixk9y6m8q"
   },
   "outputs": [
    {
     "data": {
      "text/plain": [
       "['Иван',\n",
       " 'С',\n",
       " 'иг',\n",
       " 'изму',\n",
       " 'н',\n",
       " 'до',\n",
       " 'вич',\n",
       " 'подошел',\n",
       " 'к',\n",
       " 'окну',\n",
       " 'и',\n",
       " 'закашлялся',\n",
       " '.',\n",
       " 'Вечер',\n",
       " 'ело',\n",
       " '.']"
      ]
     },
     "execution_count": 41,
     "metadata": {},
     "output_type": "execute_result"
    }
   ],
   "source": [
    "tokenizer.encode('Иван Сигизмундович подошел к окну и закашлялся. Вечерело.').tokens"
   ]
  },
  {
   "cell_type": "code",
   "execution_count": 42,
   "id": "58caf726",
   "metadata": {
    "cellId": "2sspdahsq9t15rvhrpmetg"
   },
   "outputs": [],
   "source": [
    "tokenizer.post_processor = tok.processors.TemplateProcessing(\n",
    "    single=\"[CLS] $A [SEP]\",\n",
    "    pair=\"[CLS] $A [SEP] $B:1 [SEP]:1\",\n",
    "    special_tokens=[\n",
    "        (\"[CLS]\", tokenizer.token_to_id(\"[CLS]\")),\n",
    "        (\"[SEP]\", tokenizer.token_to_id(\"[SEP]\")),\n",
    "    ],\n",
    ")"
   ]
  },
  {
   "cell_type": "code",
   "execution_count": 44,
   "id": "540d4475",
   "metadata": {
    "cellId": "jnxako2ihdliejewzfwf4"
   },
   "outputs": [
    {
     "data": {
      "text/plain": [
       "['[CLS]',\n",
       " 'Иван',\n",
       " 'С',\n",
       " 'иг',\n",
       " 'изму',\n",
       " 'н',\n",
       " 'до',\n",
       " 'вич',\n",
       " 'подошел',\n",
       " 'к',\n",
       " 'окну',\n",
       " 'и',\n",
       " 'закашлялся',\n",
       " '.',\n",
       " '[SEP]',\n",
       " 'Вечер',\n",
       " 'ело',\n",
       " '.',\n",
       " '[SEP]']"
      ]
     },
     "execution_count": 44,
     "metadata": {},
     "output_type": "execute_result"
    }
   ],
   "source": [
    "tokenizer.encode('Иван Сигизмундович подошел к окну и закашлялся.','Вечерело.').tokens"
   ]
  },
  {
   "cell_type": "code",
   "execution_count": 51,
   "id": "93a339dd",
   "metadata": {
    "cellId": "76f33tr549x3izkn7g8t7w"
   },
   "outputs": [
    {
     "data": {
      "text/plain": [
       "30000"
      ]
     },
     "execution_count": 51,
     "metadata": {},
     "output_type": "execute_result"
    }
   ],
   "source": [
    "vocab = tokenizer.get_vocab()\n",
    "len(vocab)"
   ]
  },
  {
   "cell_type": "code",
   "execution_count": 70,
   "id": "711b3fe3",
   "metadata": {
    "cellId": "7yflw4cbp4mapc77dbn4o"
   },
   "outputs": [],
   "source": [
    "config = tr.GPT2Config(vocab_size=len(vocab))\n",
    "gpt = tr.GPT2LMHeadModel(config)"
   ]
  },
  {
   "cell_type": "code",
   "execution_count": 74,
   "id": "37e33b35",
   "metadata": {
    "cellId": "pd21krza2dmw3ecnel8ara"
   },
   "outputs": [
    {
     "name": "stderr",
     "output_type": "stream",
     "text": [
      "Setting `pad_token_id` to `eos_token_id`:50256 for open-end generation.\n"
     ]
    },
    {
     "data": {
      "text/plain": [
       "'[CLS] [CLS] Мне нравится [SEP] удары удары удары зю зю зю зю зю размахивая размахивая размахивая размахивая размахивая размахивая размахивая размахивая размахивая размахивая размахивая размахивая тяжелым тяжелым тяжелым тяжелым тяжелым велите souff souff souff souff souff souff souff souff souff souff souff souff souff вающую вающую вающую вающую вающую вающую черную черную черную черную евский'"
      ]
     },
     "execution_count": 74,
     "metadata": {},
     "output_type": "execute_result"
    }
   ],
   "source": [
    "ttokenizer = tr.PreTrainedTokenizerFast(tokenizer_object=tokenizer)\n",
    "#ttokenizer=tr.AutoTokenizer.from_pretrained(\"openai-gpt\")\n",
    "res = gpt.generate(**ttokenizer(\"[CLS]Мне нравится \",return_tensors=\"pt\"),max_new_tokens=50)\n",
    "ttokenizer.decode(res[0])"
   ]
  },
  {
   "cell_type": "code",
   "execution_count": null,
   "id": "7e352ed0",
   "metadata": {
    "cellId": "zmn4v8mlkqh6zvxdg7f2w"
   },
   "outputs": [],
   "source": []
  }
 ],
 "metadata": {
  "language_info": {
   "codemirror_mode": {
    "name": "ipython",
    "version": 3
   },
   "file_extension": ".py",
   "mimetype": "text/x-python",
   "name": "python",
   "nbconvert_exporter": "python",
   "pygments_lexer": "ipython3",
   "version": "3.7.7"
  },
  "notebookId": "1481bb9f-dbbc-4e48-8133-aa84fa48d93b",
  "notebookPath": "sda-homeworks/train-trans/Untitled.ipynb"
 },
 "nbformat": 4,
 "nbformat_minor": 5
}
